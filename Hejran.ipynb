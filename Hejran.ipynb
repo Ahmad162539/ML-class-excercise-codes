{
  "nbformat": 4,
  "nbformat_minor": 0,
  "metadata": {
    "colab": {
      "provenance": [],
      "authorship_tag": "ABX9TyNl8Ytz6kQz9IE7MrtpnlO0",
      "include_colab_link": true
    },
    "kernelspec": {
      "name": "python3",
      "display_name": "Python 3"
    },
    "language_info": {
      "name": "python"
    }
  },
  "cells": [
    {
      "cell_type": "markdown",
      "metadata": {
        "id": "view-in-github",
        "colab_type": "text"
      },
      "source": [
        "<a href=\"https://colab.research.google.com/github/Ahmad162539/ML-class-excercise-codes/blob/main/Hejran.ipynb\" target=\"_parent\"><img src=\"https://colab.research.google.com/assets/colab-badge.svg\" alt=\"Open In Colab\"/></a>"
      ]
    },
    {
      "cell_type": "code",
      "execution_count": 1,
      "metadata": {
        "colab": {
          "base_uri": "https://localhost:8080/",
          "height": 476
        },
        "id": "UQ8ZMbtPp7V5",
        "outputId": "837343e8-a879-42e9-cd7e-3410ba28ed43"
      },
      "outputs": [
        {
          "output_type": "error",
          "ename": "IndexError",
          "evalue": "list index out of range",
          "traceback": [
            "\u001b[0;31m---------------------------------------------------------------------------\u001b[0m",
            "\u001b[0;31mIndexError\u001b[0m                                Traceback (most recent call last)",
            "\u001b[0;32m<ipython-input-1-0b69cb4a8255>\u001b[0m in \u001b[0;36m<cell line: 17>\u001b[0;34m()\u001b[0m\n\u001b[1;32m     17\u001b[0m \u001b[0;32mfor\u001b[0m \u001b[0mi\u001b[0m \u001b[0;32min\u001b[0m \u001b[0mrange\u001b[0m\u001b[0;34m(\u001b[0m\u001b[0;36m20\u001b[0m\u001b[0;34m,\u001b[0m\u001b[0;36m30\u001b[0m\u001b[0;34m)\u001b[0m\u001b[0;34m:\u001b[0m\u001b[0;34m\u001b[0m\u001b[0;34m\u001b[0m\u001b[0m\n\u001b[1;32m     18\u001b[0m     \u001b[0mplt\u001b[0m\u001b[0;34m.\u001b[0m\u001b[0msubplot\u001b[0m\u001b[0;34m(\u001b[0m\u001b[0;36m6\u001b[0m\u001b[0;34m,\u001b[0m \u001b[0;36m10\u001b[0m\u001b[0;34m,\u001b[0m \u001b[0mi\u001b[0m\u001b[0;34m-\u001b[0m\u001b[0;36m10\u001b[0m\u001b[0;34m+\u001b[0m\u001b[0;36m1\u001b[0m\u001b[0;34m)\u001b[0m\u001b[0;34m\u001b[0m\u001b[0;34m\u001b[0m\u001b[0m\n\u001b[0;32m---> 19\u001b[0;31m     \u001b[0mcloth_img\u001b[0m \u001b[0;34m=\u001b[0m  \u001b[0mmpimg\u001b[0m\u001b[0;34m.\u001b[0m\u001b[0mimread\u001b[0m\u001b[0;34m(\u001b[0m\u001b[0mpath\u001b[0m\u001b[0;34m[\u001b[0m\u001b[0mi\u001b[0m\u001b[0;34m]\u001b[0m\u001b[0;34m)\u001b[0m\u001b[0;34m\u001b[0m\u001b[0;34m\u001b[0m\u001b[0m\n\u001b[0m\u001b[1;32m     20\u001b[0m     \u001b[0mplt\u001b[0m\u001b[0;34m.\u001b[0m\u001b[0mimshow\u001b[0m\u001b[0;34m(\u001b[0m\u001b[0mcloth_img\u001b[0m\u001b[0;34m)\u001b[0m\u001b[0;34m\u001b[0m\u001b[0;34m\u001b[0m\u001b[0m\n\u001b[1;32m     21\u001b[0m \u001b[0mplt\u001b[0m\u001b[0;34m.\u001b[0m\u001b[0msubplots_adjust\u001b[0m\u001b[0;34m(\u001b[0m\u001b[0mwspace\u001b[0m\u001b[0;34m=\u001b[0m\u001b[0;34m-\u001b[0m\u001b[0;36m0.5\u001b[0m\u001b[0;34m,\u001b[0m \u001b[0mhspace\u001b[0m\u001b[0;34m=\u001b[0m\u001b[0;36m1\u001b[0m\u001b[0;34m)\u001b[0m\u001b[0;34m\u001b[0m\u001b[0;34m\u001b[0m\u001b[0m\n",
            "\u001b[0;31mIndexError\u001b[0m: list index out of range"
          ]
        },
        {
          "output_type": "display_data",
          "data": {
            "text/plain": [
              "<Figure size 2000x2000 with 1 Axes>"
            ],
            "image/png": "[encoded data removed]"
          },
          "metadata": {}
        }
      ],
      "source": [
        "import numpy as np\n",
        "import pandas as pd\n",
        "import tensorflow.keras as keras\n",
        "from keras.applications import vgg16\n",
        "from keras.preprocessing import image\n",
        "from keras.applications.densenet import preprocess_input\n",
        "from keras.layers import GlobalMaxPooling2D\n",
        "import matplotlib.pyplot as plt\n",
        "import matplotlib.image as mpimg\n",
        "from sklearn.metrics.pairwise import linear_kernel\n",
        "from glob import glob as glb\n",
        "\n",
        "\n",
        "path=glb(\".\\images\\\\*.jpg\")\n",
        "# Plot samples\n",
        "plt.figure(figsize=(20,20))\n",
        "for i in range(20,30):\n",
        "    plt.subplot(6, 10, i-10+1)\n",
        "    cloth_img =  mpimg.imread(path[i])\n",
        "    plt.imshow(cloth_img)\n",
        "plt.subplots_adjust(wspace=-0.5, hspace=1)\n",
        "plt.show()\n",
        "\n",
        "styles_df = pd.read_csv(\".\\styles.csv\", nrows=296)\n",
        "styles_df['image'] = styles_df.apply(lambda x: str(x['id']) + \".jpg\", axis=1)\n",
        "print(styles_df.shape)\n",
        "print(styles_df.head(5))\n",
        "\n",
        "plt.figure(figsize=(7,20))\n",
        "styles_df.articleType.value_counts().sort_values().plot(kind='barh')\n",
        "\n",
        "img_width, img_height, chnls = 100, 100, 3\n",
        "\n",
        "#VGG16\n",
        "from tensorflow.keras.applications import VGG16\n",
        "\n",
        "vgg16 = VGG16(include_top=False, weights='imagenet', input_shape=(img_width, img_height, chnls))\n",
        "vgg16.trainable=False\n",
        "vgg16_model = keras.Sequential([vgg16, GlobalMaxPooling2D()])\n",
        "vgg16_model.summary()\n",
        "\n",
        "def img_path(img):\n",
        "\n",
        "    return '.\\images\\\\' + img\n",
        "\n",
        "def predict(model, img_name):\n",
        "\n",
        "    # Reshape\n",
        "    img = image.load_img(img_path(img_name), target_size=(img_width, img_height))\n",
        "    # img to Array\n",
        "    img = image.img_to_array(img)\n",
        "    # Expand Dim (1, w, h)\n",
        "    img = np.expand_dims(img, axis=0)\n",
        "    # Pre process Input\n",
        "    img = preprocess_input(img)\n",
        "    return model.predict(img)\n",
        "\n",
        "def get_embeddings(df, model):\n",
        "\n",
        "    df_copy = df\n",
        "    df_embeddings = df_copy['image'].apply(lambda x: predict(vgg16_model, x).reshape(-1))\n",
        "    df_embeddings = df_embeddings.apply(pd.Series)\n",
        "    return df_embeddings\n",
        "\n",
        "df_embeddings = get_embeddings(styles_df, vgg16_model)\n",
        "\n",
        "url=\".\\\\images\\\\1995.jpg\"\n",
        "a = plt.imread(url)\n",
        "plt.imshow(a)\n",
        "\n",
        "sample_image = predict(vgg16_model, '1995.jpg')\n",
        "sample_image.shape\n",
        "\n",
        "df_sample_image = pd.DataFrame(sample_image)\n",
        "print(df_sample_image)\n",
        "\n",
        "sample_similarity = linear_kernel(df_sample_image, df_embeddings)\n",
        "print(sample_similarity)\n",
        "\n",
        "def get_similarity(model):\n",
        "\n",
        "    sample_image = predict(vgg16_model, '1995.jpg')\n",
        "    df_sample_image = pd.DataFrame(sample_image)\n",
        "    sample_similarity = linear_kernel(df_sample_image, df_embeddings)\n",
        "    return sample_similarity\n",
        "\n",
        "def normalize_sim(similarity):\n",
        "\n",
        "    x_min = similarity.min(axis=1)\n",
        "    x_max = similarity.max(axis=1)\n",
        "    norm = (similarity-x_min)/(x_max-x_min)[:, np.newaxis]\n",
        "    return norm\n",
        "\n",
        "sample_similarity_norm = normalize_sim(sample_similarity)\n",
        "sample_similarity_norm.shape\n",
        "\n",
        "def get_recommendations(df, similarity):\n",
        "\n",
        "\n",
        "    sim_scores = list(enumerate(similarity[0]))\n",
        "\n",
        "\n",
        "    sim_scores = sorted(sim_scores, key=lambda x: x[1], reverse=True)\n",
        "\n",
        "\n",
        "    sim_scores = sim_scores[0:5]\n",
        "    print(sim_scores)\n",
        "\n",
        "    cloth_indices = [i[0] for i in sim_scores]\n",
        "\n",
        "\n",
        "    return df['image'].iloc[cloth_indices]\n",
        "\n",
        "recommendation = get_recommendations(styles_df, sample_similarity_norm)\n",
        "recommendation_list = recommendation.to_list()\n",
        "#recommended images\n",
        "plt.figure(figsize=(20,20))\n",
        "j=0\n",
        "for i in recommendation_list:\n",
        "    plt.subplot(6, 10, j+1)\n",
        "    cloth_img =  mpimg.imread('.\\images\\\\'+ i)\n",
        "    plt.imshow(cloth_img)\n",
        "    plt.axis(\"off\")\n",
        "    j+=1\n",
        "plt.title(\"Recommended images\",loc='left')\n",
        "plt.subplots_adjust(wspace=-0.5, hspace=1)\n",
        "plt.show()"
      ]
    }
  ]
}