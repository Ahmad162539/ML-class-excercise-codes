{
  "nbformat": 4,
  "nbformat_minor": 0,
  "metadata": {
    "colab": {
      "provenance": [],
      "authorship_tag": "ABX9TyMWONkkRUWJSJkxMaSYkbCO",
      "include_colab_link": true
    },
    "kernelspec": {
      "name": "python3",
      "display_name": "Python 3"
    },
    "language_info": {
      "name": "python"
    }
  },
  "cells": [
    {
      "cell_type": "markdown",
      "metadata": {
        "id": "view-in-github",
        "colab_type": "text"
      },
      "source": [
        "<a href=\"https://colab.research.google.com/github/Ahmad162539/ML-class-excercise-codes/blob/main/Classification%20and%20Regression%20from%20sklearn%20datasets.ipynb\" target=\"_parent\"><img src=\"https://colab.research.google.com/assets/colab-badge.svg\" alt=\"Open In Colab\"/></a>"
      ]
    },
    {
      "cell_type": "code",
      "execution_count": 5,
      "metadata": {
        "colab": {
          "base_uri": "https://localhost:8080/"
        },
        "id": "e9sKb5kCXAEw",
        "outputId": "e486be24-d870-45a6-f0cb-386c2ddeff43"
      },
      "outputs": [
        {
          "output_type": "execute_result",
          "data": {
            "text/plain": [
              "array([[54.37563159],\n",
              "       [47.28147905],\n",
              "       [53.49834249],\n",
              "       [46.49402425],\n",
              "       [37.68131596],\n",
              "       [66.31534276],\n",
              "       [69.42512743],\n",
              "       [49.90981861],\n",
              "       [59.6827123 ],\n",
              "       [49.74945921],\n",
              "       [61.71547762],\n",
              "       [62.91453692],\n",
              "       [45.77927195],\n",
              "       [36.5198279 ],\n",
              "       [69.83747045],\n",
              "       [59.63238475],\n",
              "       [60.28349709],\n",
              "       [57.79361716],\n",
              "       [37.2922103 ],\n",
              "       [36.82090453],\n",
              "       [52.14524755],\n",
              "       [63.2080078 ],\n",
              "       [69.26912285],\n",
              "       [55.37190785],\n",
              "       [38.26863379],\n",
              "       [47.24737907],\n",
              "       [68.00186654],\n",
              "       [57.95173165],\n",
              "       [50.17064621],\n",
              "       [68.64988662],\n",
              "       [61.41887936],\n",
              "       [40.74480179],\n",
              "       [40.02526559],\n",
              "       [57.942965  ],\n",
              "       [69.29091389],\n",
              "       [63.36798613],\n",
              "       [60.06036707],\n",
              "       [61.94092622],\n",
              "       [40.70205577],\n",
              "       [52.10618046],\n",
              "       [56.39051267],\n",
              "       [41.62747777],\n",
              "       [36.88895509],\n",
              "       [44.15433923],\n",
              "       [66.06661771],\n",
              "       [36.44415919],\n",
              "       [45.08639171],\n",
              "       [38.28857764],\n",
              "       [58.82946826],\n",
              "       [43.82076965],\n",
              "       [52.31992406],\n",
              "       [45.35366724],\n",
              "       [65.85459634],\n",
              "       [60.25161238],\n",
              "       [41.91327949],\n",
              "       [56.68642622],\n",
              "       [39.72827534],\n",
              "       [45.42409903],\n",
              "       [47.73825054],\n",
              "       [49.32934456],\n",
              "       [67.73299393],\n",
              "       [36.76584459],\n",
              "       [63.31455178],\n",
              "       [56.88764558],\n",
              "       [63.66427209],\n",
              "       [44.17803375],\n",
              "       [35.62641528],\n",
              "       [37.78285554],\n",
              "       [37.8126897 ],\n",
              "       [40.92581769],\n",
              "       [41.08475351],\n",
              "       [59.27457163],\n",
              "       [58.44896627],\n",
              "       [36.1110733 ],\n",
              "       [54.73464988],\n",
              "       [67.5549416 ],\n",
              "       [55.0655162 ],\n",
              "       [50.05775897],\n",
              "       [40.24387662],\n",
              "       [57.29545552],\n",
              "       [48.54681372],\n",
              "       [45.52642843],\n",
              "       [39.0625459 ],\n",
              "       [45.56382155],\n",
              "       [40.94003639],\n",
              "       [47.11056801],\n",
              "       [41.62389099],\n",
              "       [58.26251244],\n",
              "       [63.85950224],\n",
              "       [61.51778243],\n",
              "       [49.68145343],\n",
              "       [43.52825285],\n",
              "       [54.91885852],\n",
              "       [66.43545432],\n",
              "       [60.94784757],\n",
              "       [59.25323409],\n",
              "       [48.11476618],\n",
              "       [41.17144015],\n",
              "       [40.97397909],\n",
              "       [69.76384446],\n",
              "       [40.74110557],\n",
              "       [64.49352451],\n",
              "       [62.23363403],\n",
              "       [54.69800055],\n",
              "       [66.94908988],\n",
              "       [67.05189371],\n",
              "       [64.82930752],\n",
              "       [40.61973445],\n",
              "       [46.50664235],\n",
              "       [52.11268769],\n",
              "       [48.82226457],\n",
              "       [38.52369573],\n",
              "       [64.67965055],\n",
              "       [45.19431238],\n",
              "       [46.10628579],\n",
              "       [62.18938788],\n",
              "       [46.91090464],\n",
              "       [63.48519952],\n",
              "       [39.10578456],\n",
              "       [62.02434952],\n",
              "       [47.75327243],\n",
              "       [44.38291778],\n",
              "       [55.7242285 ],\n",
              "       [45.76494766],\n",
              "       [57.53675056],\n",
              "       [60.06152879],\n",
              "       [66.25334301],\n",
              "       [46.18937463],\n",
              "       [67.61583128],\n",
              "       [69.50393101],\n",
              "       [54.88542291],\n",
              "       [47.9294398 ],\n",
              "       [68.59524681],\n",
              "       [63.21417348],\n",
              "       [54.74970715],\n",
              "       [58.7705411 ],\n",
              "       [64.24936698],\n",
              "       [45.28900801],\n",
              "       [39.19757296],\n",
              "       [53.19472337],\n",
              "       [50.66138561],\n",
              "       [41.79085705],\n",
              "       [49.19063544],\n",
              "       [52.52703848],\n",
              "       [52.1963955 ],\n",
              "       [54.48311356],\n",
              "       [52.71789993],\n",
              "       [63.99787347],\n",
              "       [36.87059146],\n",
              "       [68.43969745]])"
            ]
          },
          "metadata": {},
          "execution_count": 5
        }
      ],
      "source": [
        "import numpy as np\n",
        "def Func1 (n= 150, n_test= 150):\n",
        "  # np.random.seed(43)\n",
        "  def Func2(x):\n",
        "      g = (x - 10) / 30\n",
        "      return 3 * (0.25 + g**4.)\n",
        "  x = (35) * np.random.rand(n) + 35\n",
        "  eps = np.random.rand(n) * Func2(x)\n",
        "  y = (6 * x * (1. + np.sin(x)) + 0.6) + eps\n",
        "  x = x[..., np.newaxis]\n",
        "  #x_tst = np.linspace(*2, num=n_test).astype(np.float32)\n",
        "  #x_tst = x_tst[..., np.newaxis]\n",
        "  return x, y\n",
        "\n",
        "x, y = Func1() \n",
        "x # # this x will not compiled because it is in of block of statement. \n",
        "#x_tst # this x will be compiled because it is out of block of statement. "
      ]
    },
    {
      "cell_type": "code",
      "source": [
        "import matplotlib.pyplot as plt\n",
        "\n",
        "plt.figure(figsize=[12,7])\n",
        "plt.scatter(x, y, label = 'data') # this command for plotting the x and y data\n",
        "plt.xlabel('data') \n",
        "plt.ylabel('target')\n",
        "plt.legend() # this command is for inserting legend which defined in plt.scatter (x, y, label = 'data')\n",
        "plt.show() "
      ],
      "metadata": {
        "colab": {
          "base_uri": "https://localhost:8080/",
          "height": 619
        },
        "id": "5RwGOYyXfkiM",
        "outputId": "9808a3fb-1d5d-4a28-cacc-a3dcdc990030"
      },
      "execution_count": 30,
      "outputs": [
        {
          "output_type": "display_data",
          "data": {
            "text/plain": [
              "<Figure size 1200x700 with 1 Axes>"
            ],
            "image/png": "[encoded data removed]"
          },
          "metadata": {}
        }
      ]
    },
    {
      "cell_type": "markdown",
      "source": [
        "what is SVM or SVR in sklearn \n",
        "\n",
        "  SVM stands for Support Vector Machine, which is a powerful machine learning algorithm used for classification and regression analysis. In Scikit-learn (sklearn), SVM is implemented in the svm module. \n",
        "\n",
        "  In Scikit-learn, there are several types of SVM classifiers available, including:\n",
        "\n",
        "1- svm.SVC: This is the standard SVM classifier for classification problems.\n",
        "\n",
        "2- svm.SVR: This is the SVM regressor for regression problems.\n",
        "\n",
        "\n",
        "Here's an example of how to use SVM for classification with Scikit-learn:"
      ],
      "metadata": {
        "id": "hDmU9CSKk1Z0"
      }
    },
    {
      "cell_type": "code",
      "source": [
        "# this code coped from chat GPT\n",
        "\n",
        "from sklearn import datasets\n",
        "from sklearn.model_selection import train_test_split\n",
        "from sklearn import svm\n",
        "from sklearn import metrics\n",
        "\n",
        "# Load the iris dataset\n",
        "iris = datasets.load_iris()\n",
        "\n",
        "# we can split datasets in two way directly or by separating the numbers and labels \n",
        "\n",
        "# Firt : separating number and label and put into x, y \n",
        "\n",
        "x= iris.data # put irisdataset numbers in x \n",
        "y= iris.target # put irisdataset label or target in y\n",
        "X_test, X_train, y_test, y_train = train_test_split (x, y, test_size=0.3, random_state = 100)\n",
        "\n",
        "# second: directly\n",
        "X_train, X_test, y_train, y_test = train_test_split(iris.data, iris.target, test_size=0.3, random_state=0)\n",
        "\n",
        "# Create an SVM classifier with a linear kernel\n",
        "clf = svm.SVC(kernel='linear')\n",
        "\n",
        "# Fit the model to the training data\n",
        "clf.fit(X_train, y_train)\n",
        "\n",
        "# Predict the classes of the test data\n",
        "y_pred = clf.predict(X_test)\n",
        "\n",
        "# Print the classification accuracy\n",
        "print(\"Accuracy:\", metrics.accuracy_score(y_test, y_pred))\n"
      ],
      "metadata": {
        "colab": {
          "base_uri": "https://localhost:8080/"
        },
        "id": "eFmTFee7LeY9",
        "outputId": "978596e1-ce12-4dd9-d242-f2d21b96dc50"
      },
      "execution_count": 7,
      "outputs": [
        {
          "output_type": "stream",
          "name": "stdout",
          "text": [
            "Accuracy: 0.9777777777777777\n"
          ]
        }
      ]
    },
    {
      "cell_type": "code",
      "source": [
        "# import Breast_cancer_dataset from sklearn.datasets => train data => use svm algorithm => discuss about accuracy\n",
        "\n",
        "from sklearn.datasets import load_breast_cancer\n",
        "from sklearn.model_selection import train_test_split\n",
        "from sklearn import svm\n",
        "from sklearn import metrics\n",
        "\n",
        "# Load the iris dataset\n",
        "Breast_cancer_dataset = load_breast_cancer()\n",
        "\n",
        "# Split the data into training and testing sets\n",
        "X_train, X_test, y_train, y_test = train_test_split(Breast_cancer_dataset.data, Breast_cancer_dataset.target, test_size=0.3, random_state=0)\n",
        "\n",
        "# Create an SVM classifier with a linear kernel\n",
        "clf = svm.SVC(kernel='linear')\n",
        "\n",
        "# Fit the model to the training data\n",
        "clf.fit(X_train, y_train)\n",
        "\n",
        "# Predict the classes of the test data\n",
        "y_pred = clf.predict(X_test)\n",
        "\n",
        "# Print the classification accuracy\n",
        "print(\"Accuracy:\", metrics.accuracy_score(y_test, y_pred))"
      ],
      "metadata": {
        "colab": {
          "base_uri": "https://localhost:8080/"
        },
        "id": "3VglcuqJMrH3",
        "outputId": "a7c0df58-d010-4791-fce8-348740a8c09a"
      },
      "execution_count": 5,
      "outputs": [
        {
          "output_type": "stream",
          "name": "stdout",
          "text": [
            "Accuracy: 0.9590643274853801\n"
          ]
        }
      ]
    },
    {
      "cell_type": "code",
      "source": [
        "# import  California housing dataset from sklearn.datasets => train data => use svm algorithm => discuss about accuracy\n",
        "\n",
        "from sklearn.datasets import fetch_california_housing\n",
        "from sklearn.model_selection import train_test_split\n",
        "from sklearn import svm\n",
        "from sklearn import metrics\n",
        "from sklearn.linear_model import LinearRegression\n",
        "\n",
        "# Load the iris dataset\n",
        "fetch_california_housing = fetch_california_housing()\n",
        "\n",
        "x= fetch_california_housing.data\n",
        "y= fetch_california_housing.target\n",
        "\n",
        "# Split the data into training and testing sets\n",
        "X_train, X_test, y_train, y_test = train_test_split(x, y, test_size=0.3, random_state=0)\n",
        "\n",
        "# Create an SVM classifier with a linear kernel\n",
        "# clf = svm.SVC(kernel='linear')\n",
        "Ir = LinearRegression()\n",
        "Ir.fit(X_train, y_train)\n",
        "# Fit the model to the training data\n",
        "#clf.fit(X_train, y_train)\n",
        "\n",
        "# Predict the classes of the test data\n",
        "y_pred = Ir.predict(X_test)\n",
        "\n",
        "# Print the classification accuracy\n",
        "# print(\"Accuracy:\", metrics.accuracy_score(y_test, y_pred)) => Error : continuous is not supported : it doesnt work because \"metrics.accuracy_score\" is a function for classification and not for regression.\n",
        "\n",
        "# Evaluate the regression model on the testing set\n",
        "score = Ir.score(X_test, y_test)\n",
        "print(\"Model score:\", score)"
      ],
      "metadata": {
        "colab": {
          "base_uri": "https://localhost:8080/"
        },
        "id": "EQFyOW8lOkpx",
        "outputId": "3b92bd0b-2844-403b-d836-db032dadfbed"
      },
      "execution_count": 23,
      "outputs": [
        {
          "output_type": "stream",
          "name": "stdout",
          "text": [
            "Model score: 0.5926087785518772\n"
          ]
        }
      ]
    },
    {
      "cell_type": "markdown",
      "source": [
        "Classification for California housing dataset from sklearn.datasets:\n",
        "\n",
        "The California Housing dataset is a regression problem, which means that it aims to predict a continuous target variable (median house value). However, we can convert this regression problem into a binary classification problem by creating a new target variable that indicates whether the median house value is above or below a certain threshold."
      ],
      "metadata": {
        "id": "mreu9-56tg3R"
      }
    },
    {
      "cell_type": "code",
      "source": [
        "# import  California housing dataset from sklearn.datasets => train data => use svm algorithm => discuss about accuracy\n",
        "\n",
        "from sklearn.datasets import fetch_california_housing\n",
        "from sklearn.model_selection import train_test_split\n",
        "from sklearn import svm\n",
        "from sklearn import metrics\n",
        "from sklearn.linear_model import LinearRegression\n",
        "\n",
        "# Load the iris dataset\n",
        "fetch_california_housing = fetch_california_housing()\n",
        "\n",
        "x= fetch_california_housing.data\n",
        "# y= fetch_california_housing.target\n",
        "\n",
        "# Create a binary target variable based on a threshold\n",
        "threshold = 2.0\n",
        "y = (fetch_california_housing.target > threshold).astype(int)\n",
        "\n",
        "# Split the data into training and testing sets\n",
        "X_train, X_test, y_train, y_test = train_test_split(x, y, test_size=0.3, random_state=0)\n",
        "\n",
        "# Create an SVM classifier with a linear kernel\n",
        "clf = svm.SVC(kernel='linear')\n",
        "\n",
        "# Fit the model to the training data\n",
        "clf.fit(X_train, y_train)\n",
        "\n",
        "# Predict the classes of the test data\n",
        "y_pred = clf.predict(X_test)\n",
        "\n",
        "# Print the classification accuracy\n",
        "print(\"Accuracy:\", metrics.accuracy_score(y_test, y_pred))"
      ],
      "metadata": {
        "colab": {
          "base_uri": "https://localhost:8080/"
        },
        "id": "Ay30L8Gk4jRq",
        "outputId": "b4179e26-70a0-4f00-cfed-5b68fc5defa1"
      },
      "execution_count": 1,
      "outputs": [
        {
          "output_type": "stream",
          "name": "stdout",
          "text": [
            "Accuracy: 0.8354328165374677\n"
          ]
        }
      ]
    }
  ]
}