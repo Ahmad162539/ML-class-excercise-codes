{
  "cells": [
    {
      "cell_type": "markdown",
      "metadata": {
        "id": "view-in-github",
        "colab_type": "text"
      },
      "source": [
        "<a href=\"https://colab.research.google.com/github/Ahmad162539/ML-class-excercise-codes/blob/main/BioML5.ipynb\" target=\"_parent\"><img src=\"https://colab.research.google.com/assets/colab-badge.svg\" alt=\"Open In Colab\"/></a>"
      ]
    },
    {
      "cell_type": "code",
      "source": [
        "!pip install Biopython\n",
        "\n",
        "from Bio import SeqIO\n",
        "\n",
        "!wget https://rest.uniprot.org/uniprotkb/P0A6V8.fasta\n",
        "!wget https://rest.uniprot.org/uniprotkb/B1JDJ6.fasta\n",
        "!wget https://rest.uniprot.org/uniprotkb/B5XVU8.fasta\n",
        "!wget https://rest.uniprot.org/uniprotkb/Q93IM5.fasta\n",
        "!wget https://rest.uniprot.org/uniprotkb/P0A4E1.fasta\n",
        "\n",
        "\n",
        "\n"
      ],
      "metadata": {
        "colab": {
          "base_uri": "https://localhost:8080/"
        },
        "id": "QSe1KusZbdca",
        "outputId": "2708d870-5f3d-4f5c-969d-c47645077d5c"
      },
      "execution_count": 4,
      "outputs": [
        {
          "output_type": "stream",
          "name": "stdout",
          "text": [
            "Looking in indexes: https://pypi.org/simple, https://us-python.pkg.dev/colab-wheels/public/simple/\n",
            "Requirement already satisfied: Biopython in /usr/local/lib/python3.10/dist-packages (1.81)\n",
            "Requirement already satisfied: numpy in /usr/local/lib/python3.10/dist-packages (from Biopython) (1.22.4)\n",
            "--2023-05-03 07:18:55--  https://rest.uniprot.org/uniprotkb/P0A6V8.fasta\n",
            "Resolving rest.uniprot.org (rest.uniprot.org)... 193.62.193.81\n",
            "Connecting to rest.uniprot.org (rest.uniprot.org)|193.62.193.81|:443... connected.\n",
            "HTTP request sent, awaiting response... 200 OK\n",
            "Length: 419 [text/plain]\n",
            "Saving to: ‘P0A6V8.fasta.1’\n",
            "\n",
            "P0A6V8.fasta.1      100%[===================>]     419  --.-KB/s    in 0s      \n",
            "\n",
            "2023-05-03 07:18:55 (74.9 MB/s) - ‘P0A6V8.fasta.1’ saved [419/419]\n",
            "\n",
            "--2023-05-03 07:18:55--  https://rest.uniprot.org/uniprotkb/B1JDJ6.fasta\n",
            "Resolving rest.uniprot.org (rest.uniprot.org)... 193.62.193.81\n",
            "Connecting to rest.uniprot.org (rest.uniprot.org)|193.62.193.81|:443... connected.\n",
            "HTTP request sent, awaiting response... 200 OK\n",
            "Length: 424 [text/plain]\n",
            "Saving to: ‘B1JDJ6.fasta’\n",
            "\n",
            "B1JDJ6.fasta        100%[===================>]     424  --.-KB/s    in 0s      \n",
            "\n",
            "2023-05-03 07:18:56 (89.4 MB/s) - ‘B1JDJ6.fasta’ saved [424/424]\n",
            "\n",
            "--2023-05-03 07:18:56--  https://rest.uniprot.org/uniprotkb/B5XVU8.fasta\n",
            "Resolving rest.uniprot.org (rest.uniprot.org)... 193.62.193.81\n",
            "Connecting to rest.uniprot.org (rest.uniprot.org)|193.62.193.81|:443... connected.\n",
            "HTTP request sent, awaiting response... 200 OK\n",
            "Length: 425 [text/plain]\n",
            "Saving to: ‘B5XVU8.fasta’\n",
            "\n",
            "B5XVU8.fasta        100%[===================>]     425  --.-KB/s    in 0s      \n",
            "\n",
            "2023-05-03 07:18:56 (142 MB/s) - ‘B5XVU8.fasta’ saved [425/425]\n",
            "\n",
            "--2023-05-03 07:18:56--  https://rest.uniprot.org/uniprotkb/Q93IM5.fasta\n",
            "Resolving rest.uniprot.org (rest.uniprot.org)... 193.62.193.81\n",
            "Connecting to rest.uniprot.org (rest.uniprot.org)|193.62.193.81|:443... connected.\n",
            "HTTP request sent, awaiting response... 200 OK\n",
            "Length: 450 [text/plain]\n",
            "Saving to: ‘Q93IM5.fasta’\n",
            "\n",
            "Q93IM5.fasta        100%[===================>]     450  --.-KB/s    in 0s      \n",
            "\n",
            "2023-05-03 07:18:57 (75.4 MB/s) - ‘Q93IM5.fasta’ saved [450/450]\n",
            "\n",
            "--2023-05-03 07:18:57--  https://rest.uniprot.org/uniprotkb/P0A4E1.fasta\n",
            "Resolving rest.uniprot.org (rest.uniprot.org)... 193.62.193.81\n",
            "Connecting to rest.uniprot.org (rest.uniprot.org)|193.62.193.81|:443... connected.\n",
            "HTTP request sent, awaiting response... 200 OK\n",
            "Length: 448 [text/plain]\n",
            "Saving to: ‘P0A4E1.fasta’\n",
            "\n",
            "P0A4E1.fasta        100%[===================>]     448  --.-KB/s    in 0s      \n",
            "\n",
            "2023-05-03 07:18:57 (81.2 MB/s) - ‘P0A4E1.fasta’ saved [448/448]\n",
            "\n"
          ]
        }
      ]
    },
    {
      "cell_type": "code",
      "source": [
        "from Bio.Blast import NCBIWWW as ncbiwww\n",
        "from Bio.Blast import NCBIXML as ncbixml\n",
        "from Bio import SeqIO\n",
        "\n",
        "ec_glk = SeqIO.read (\"P0A6V8.fasta\", \"fasta\")\n",
        "sequence = ec_glk.seq\n",
        "\n",
        "result = ncbiwww.qblast (\"blastp\", \"nr\", sequence)\n",
        "with open (\"ec_glk_blast.xml\", \"w\") as f:\n",
        "  f.write (result.read())\n",
        "  f.close ()\n",
        "\n",
        "with open (\"ec_glk_blast.xml\", \"r\") as f:\n",
        "  for record in ncbixml.parse(f):\n",
        "    for align in record.alignments:\n",
        "      title = str (align.title)\n",
        "      title = title.split (\">\") [0]\n",
        "      seq_id = title.split (\"I\") [1]\n",
        "      if \"[\" in title: \n",
        "        strain = title.split (\"[\") [-1].split(\"]\") [0]\n",
        "        protein= title[title.index(seq_id)+len (seq_id) + 2: title.index (\"[\")-1 ]\n",
        "      else:\n",
        "        strain = \"\"\n",
        "        protein = title[title.index(seq_id)+len (seq_id) + 2: ]\n",
        "      hsp = align.hsps [0]\n",
        "      coverage = float (hsp.align_length-hsp.gaps) / len (hsp.query)\n",
        "      identity = float (hsp.identities) / len (hsp.query)\n",
        "\n",
        "      print (seq_id, protein, strain, coverage, identity)\n",
        "      print (hsp)\n",
        "      break \n",
        "    f.close ()\n",
        "\n"
      ],
      "metadata": {
        "colab": {
          "base_uri": "https://localhost:8080/",
          "height": 436
        },
        "id": "smDZ9PHDeuOE",
        "outputId": "64fcf532-3f05-4f7a-acfc-57f3b170a81e"
      },
      "execution_count": 15,
      "outputs": [
        {
          "output_type": "stream",
          "name": "stdout",
          "text": [
            "SPEC S: glucokinase Enterobacteriaceae 1.0 1.0\n",
            "Score 1691 (655 bits), expectation 0.0e+00, alignment length 321\n",
            "Query:       1 MTKYALVGDVGGTNARLALCDIASGEISQAKTYSGLDYPSLEAVI...HIL 321\n",
            "               MTKYALVGDVGGTNARLALCDIASGEISQAKTYSGLDYPSLEAVI...HIL\n",
            "Sbjct:       1 MTKYALVGDVGGTNARLALCDIASGEISQAKTYSGLDYPSLEAVI...HIL 321\n"
          ]
        },
        {
          "output_type": "error",
          "ename": "ValueError",
          "evalue": "ignored",
          "traceback": [
            "\u001b[0;31m---------------------------------------------------------------------------\u001b[0m",
            "\u001b[0;31mValueError\u001b[0m                                Traceback (most recent call last)",
            "\u001b[0;32m<ipython-input-15-0c1712aaa560>\u001b[0m in \u001b[0;36m<cell line: 13>\u001b[0;34m()\u001b[0m\n\u001b[1;32m     12\u001b[0m \u001b[0;34m\u001b[0m\u001b[0m\n\u001b[1;32m     13\u001b[0m \u001b[0;32mwith\u001b[0m \u001b[0mopen\u001b[0m \u001b[0;34m(\u001b[0m\u001b[0;34m\"ec_glk_blast.xml\"\u001b[0m\u001b[0;34m,\u001b[0m \u001b[0;34m\"r\"\u001b[0m\u001b[0;34m)\u001b[0m \u001b[0;32mas\u001b[0m \u001b[0mf\u001b[0m\u001b[0;34m:\u001b[0m\u001b[0;34m\u001b[0m\u001b[0;34m\u001b[0m\u001b[0m\n\u001b[0;32m---> 14\u001b[0;31m   \u001b[0;32mfor\u001b[0m \u001b[0mrecord\u001b[0m \u001b[0;32min\u001b[0m \u001b[0mncbixml\u001b[0m\u001b[0;34m.\u001b[0m\u001b[0mparse\u001b[0m\u001b[0;34m(\u001b[0m\u001b[0mf\u001b[0m\u001b[0;34m)\u001b[0m\u001b[0;34m:\u001b[0m\u001b[0;34m\u001b[0m\u001b[0;34m\u001b[0m\u001b[0m\n\u001b[0m\u001b[1;32m     15\u001b[0m     \u001b[0;32mfor\u001b[0m \u001b[0malign\u001b[0m \u001b[0;32min\u001b[0m \u001b[0mrecord\u001b[0m\u001b[0;34m.\u001b[0m\u001b[0malignments\u001b[0m\u001b[0;34m:\u001b[0m\u001b[0;34m\u001b[0m\u001b[0;34m\u001b[0m\u001b[0m\n\u001b[1;32m     16\u001b[0m       \u001b[0mtitle\u001b[0m \u001b[0;34m=\u001b[0m \u001b[0mstr\u001b[0m \u001b[0;34m(\u001b[0m\u001b[0malign\u001b[0m\u001b[0;34m.\u001b[0m\u001b[0mtitle\u001b[0m\u001b[0;34m)\u001b[0m\u001b[0;34m\u001b[0m\u001b[0;34m\u001b[0m\u001b[0m\n",
            "\u001b[0;32m/usr/local/lib/python3.10/dist-packages/Bio/Blast/NCBIXML.py\u001b[0m in \u001b[0;36mparse\u001b[0;34m(handle, debug)\u001b[0m\n\u001b[1;32m    821\u001b[0m         \u001b[0;32mwhile\u001b[0m \u001b[0;32mTrue\u001b[0m\u001b[0;34m:\u001b[0m\u001b[0;34m\u001b[0m\u001b[0;34m\u001b[0m\u001b[0m\n\u001b[1;32m    822\u001b[0m             \u001b[0;31m# Read in another block of the file...\u001b[0m\u001b[0;34m\u001b[0m\u001b[0;34m\u001b[0m\u001b[0m\n\u001b[0;32m--> 823\u001b[0;31m             \u001b[0mtext\u001b[0m\u001b[0;34m,\u001b[0m \u001b[0mpending\u001b[0m \u001b[0;34m=\u001b[0m \u001b[0mpending\u001b[0m \u001b[0;34m+\u001b[0m \u001b[0mhandle\u001b[0m\u001b[0;34m.\u001b[0m\u001b[0mread\u001b[0m\u001b[0;34m(\u001b[0m\u001b[0mBLOCK\u001b[0m\u001b[0;34m)\u001b[0m\u001b[0;34m,\u001b[0m \u001b[0;34m\"\"\u001b[0m\u001b[0;34m\u001b[0m\u001b[0;34m\u001b[0m\u001b[0m\n\u001b[0m\u001b[1;32m    824\u001b[0m             \u001b[0;32mif\u001b[0m \u001b[0;32mnot\u001b[0m \u001b[0mtext\u001b[0m\u001b[0;34m:\u001b[0m\u001b[0;34m\u001b[0m\u001b[0;34m\u001b[0m\u001b[0m\n\u001b[1;32m    825\u001b[0m                 \u001b[0;31m# End of the file!\u001b[0m\u001b[0;34m\u001b[0m\u001b[0;34m\u001b[0m\u001b[0m\n",
            "\u001b[0;31mValueError\u001b[0m: I/O operation on closed file."
          ]
        }
      ]
    },
    {
      "cell_type": "code",
      "source": [
        "import tensorflow as tf \n",
        "import numpy as np\n",
        "from tensorflow import keras \n",
        "\n"
      ],
      "metadata": {
        "id": "B0UPEVN1q_ti"
      },
      "execution_count": 16,
      "outputs": []
    }
  ],
  "metadata": {
    "colab": {
      "provenance": [],
      "authorship_tag": "ABX9TyNIDwRXyrLX7q0zY6HNsO8x",
      "include_colab_link": true
    },
    "kernelspec": {
      "display_name": "Python 3",
      "name": "python3"
    },
    "language_info": {
      "name": "python"
    }
  },
  "nbformat": 4,
  "nbformat_minor": 0
}